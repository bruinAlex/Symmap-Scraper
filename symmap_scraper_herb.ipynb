{
 "cells": [
  {
   "cell_type": "code",
   "execution_count": null,
   "metadata": {},
   "outputs": [],
   "source": [
    "from selenium import webdriver\n",
    "from selenium.webdriver.common.keys import Keys\n",
    "# from bs4 import BeautifulSoup\n",
    "# import re\n",
    "# import pandas as pd\n",
    "import os\n",
    "import time\n",
    "import re\n",
    "import shutil"
   ]
  },
  {
   "cell_type": "code",
   "execution_count": null,
   "metadata": {},
   "outputs": [],
   "source": [
    "url = 'https://www.symmap.org/browse/'"
   ]
  },
  {
   "cell_type": "markdown",
   "metadata": {},
   "source": [
    "# Open Firefox and Nav to URL\n",
    "## NOTE -- Need to modify certain prefs for your system\n",
    "Will be noted with comments\n",
    "\n",
    "## Geckodriver\n",
    "https://github.com/mozilla/geckodriver/releases  \n",
    "I downloaded and unzipped one of the pre-compiled geckodrivers for my Windows system.  \n",
    "The executable sits in a random directory, and I point to it when calling the webdriver for Firefox below. You may need to adjust that line."
   ]
  },
  {
   "cell_type": "code",
   "execution_count": null,
   "metadata": {},
   "outputs": [],
   "source": [
    "fp = webdriver.FirefoxProfile()\n",
    "fp.set_preference('browser.download.folderList', 2) \n",
    "fp.set_preference('browser.download.manager.showWhenStarting', False)\n",
    "# Set the default download dir\n",
    "fp.set_preference('browser.download.dir', r\"C:\\\\selenium\\\\\")\n",
    "fp.set_preference('browser.helperApps.neverAsk.openFile', 'text/csv,application/x-msexcel,application/excel,application/x-excel,application/vnd.ms-excel,image/png,image/jpeg,text/html,text/plain,application/msword,application/xml')\n",
    "fp.set_preference('browser.helperApps.neverAsk.saveToDisk', 'text/csv,application/x-msexcel,application/excel,application/x-excel,application/vnd.ms-excel,image/png,image/jpeg,text/html,text/plain,application/msword,application/xml')\n",
    "fp.set_preference('browser.helperApps.alwaysAsk.force', False)\n",
    "fp.set_preference('browser.download.manager.alertOnEXEOpen', False)\n",
    "fp.set_preference('browser.download.manager.focusWhenStarting', False)\n",
    "fp.set_preference('browser.download.manager.useWindow', False)\n",
    "fp.set_preference('browser.download.manager.showAlertOnComplete', False)\n",
    "fp.set_preference('browser.download.manager.closeWhenDone', False)\n",
    "# Point to the geckodriver you downloaded on your local\n",
    "driver = webdriver.Firefox(fp, executable_path=r'C:\\Users\\alexl\\Downloads\\geckodriver-v0.26.0-win64\\geckodriver.exe')\n",
    "driver.window_handles\n",
    "driver.switch_to_window(driver.window_handles[0])\n",
    "driver.get(url)"
   ]
  },
  {
   "cell_type": "markdown",
   "metadata": {},
   "source": [
    "# Workaround for Herb IDs\n",
    "## Screw the Pagination and Pull What Exists as of Now\n",
    "Herb IDs go from 00001 - 00499. We'll just programatically generate the links."
   ]
  },
  {
   "cell_type": "code",
   "execution_count": null,
   "metadata": {},
   "outputs": [],
   "source": [
    "herb_id_dict = dict()\n",
    "\n",
    "url_head = \"https://www.symmap.org/detail/SMHB0\"\n",
    "max_id = 499\n",
    "\n",
    "for i in range(1, max_id + 1):\n",
    "    # Store links to disease pages as {disease_id: href} pairs\n",
    "    id_len = len(str(i))\n",
    "    padding_size = 4 - id_len\n",
    "    herb_id_name = 'SMHB0' + padding_size * str(0) + str(i)\n",
    "    herb_id_dict[herb_id_name] = url_head + padding_size * str(0) + str(i)"
   ]
  },
  {
   "cell_type": "code",
   "execution_count": null,
   "metadata": {},
   "outputs": [],
   "source": [
    "herb_id_dict"
   ]
  },
  {
   "cell_type": "markdown",
   "metadata": {},
   "source": [
    "# Find the Dropdown and Click to Open"
   ]
  },
  {
   "cell_type": "code",
   "execution_count": null,
   "metadata": {},
   "outputs": [],
   "source": [
    "from selenium.webdriver.support.ui import WebDriverWait\n",
    "from selenium.webdriver.common.by import By\n",
    "from selenium.webdriver.support import expected_conditions as EC\n",
    "from selenium.webdriver.support.select import Select"
   ]
  },
  {
   "cell_type": "code",
   "execution_count": null,
   "metadata": {},
   "outputs": [],
   "source": [
    "# Click the dropdown\n",
    "driver.find_element_by_xpath(r\"//button[@data-id='browse_type']\").click()\n",
    "\n",
    "# Wait until the list loads, then click on the fifth list item which is 'diseases'\n",
    "target = WebDriverWait(driver, 3).until(EC.element_to_be_clickable((By.XPATH, \"//ul[@class='dropdown-menu inner']/li[@data-original-index='4']\")))\n",
    "target.click()"
   ]
  },
  {
   "cell_type": "markdown",
   "metadata": {},
   "source": [
    "# Click the Disease Link and Download"
   ]
  },
  {
   "cell_type": "code",
   "execution_count": null,
   "metadata": {},
   "outputs": [],
   "source": [
    "# File save & rename paths\n",
    "# Selenium can't handle file renaming the way this is set up,\n",
    "# so the workaround is to rename and move the file to another\n",
    "# directory\n",
    "filepath = r'c:/selenium'\n",
    "destination = r'c:/selenium/named_files/'"
   ]
  },
  {
   "cell_type": "markdown",
   "metadata": {},
   "source": [
    "# Time Outs to Prevent Banhammer\n",
    "Each run adds a total of 5 seconds of sleeptime to avoid hammering the server and getting banned. With 5,335 files to pull, this requires over 7 hours to get the docs. May want to play around or split the pull across multiple ppl by assigning tranches of IDs."
   ]
  },
  {
   "cell_type": "code",
   "execution_count": null,
   "metadata": {},
   "outputs": [],
   "source": [
    "# Loop through the dict\n",
    "for name, link in herb_id_dict.items():\n",
    "    # Add some wait time to avoid hammering server\n",
    "    time.sleep(1)\n",
    "    \n",
    "    # Pull the link\n",
    "    driver.get(link)\n",
    "    \n",
    "    # Zzzzzzz\n",
    "    time.sleep(2)\n",
    "    \n",
    "    # Click the dropdown\n",
    "    driver.find_element_by_xpath(r\"//button[@data-id='browse_type']\").click()\n",
    "\n",
    "    # Wait until the list loads, then click on the fifth list item which is 'diseases'\n",
    "    target = WebDriverWait(driver, 3).until(EC.element_to_be_clickable((By.XPATH, \"//ul[@class='dropdown-menu inner']/li[@data-original-index='4']\")))\n",
    "    target.click()\n",
    "    \n",
    "    # Find and click the download button\n",
    "    driver.find_element_by_xpath(r\"//button[@class='btn btn-primary pull-right']\").click()\n",
    "    \n",
    "    # Look for the newest file and store the name\n",
    "    filename = max([filepath +\"/\"+ f for f in os.listdir(filepath)], key=os.path.getctime)\n",
    "    \n",
    "    # Use shutil.move() to rename and move that file to the final dir\n",
    "    shutil.move(os.path.join(filepath, filename), os.path.join(destination, name + '.csv'))\n",
    "    \n",
    "    # Zzzzzzzz\n",
    "    time.sleep(2)"
   ]
  }
 ],
 "metadata": {
  "kernelspec": {
   "display_name": "Python 3",
   "language": "python",
   "name": "python3"
  },
  "language_info": {
   "codemirror_mode": {
    "name": "ipython",
    "version": 3
   },
   "file_extension": ".py",
   "mimetype": "text/x-python",
   "name": "python",
   "nbconvert_exporter": "python",
   "pygments_lexer": "ipython3",
   "version": "3.7.5"
  }
 },
 "nbformat": 4,
 "nbformat_minor": 2
}
